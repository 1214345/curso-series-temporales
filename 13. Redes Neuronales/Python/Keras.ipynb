{
  "nbformat": 4,
  "nbformat_minor": 0,
  "metadata": {
    "kernelspec": {
      "display_name": "Python 3",
      "language": "python",
      "name": "python3"
    },
    "language_info": {
      "codemirror_mode": {
        "name": "ipython",
        "version": 3
      },
      "file_extension": ".py",
      "mimetype": "text/x-python",
      "name": "python",
      "nbconvert_exporter": "python",
      "pygments_lexer": "ipython3",
      "version": "3.6.7"
    },
    "colab": {
      "name": "Keras.ipynb",
      "provenance": []
    }
  },
  "cells": [
    {
      "cell_type": "markdown",
      "metadata": {
        "id": "HRT4LwDK3bu1",
        "colab_type": "text"
      },
      "source": [
        "# Keras \n",
        "\n",
        "Keras se utiliza para hacer redes neuronales"
      ]
    },
    {
      "cell_type": "code",
      "metadata": {
        "id": "n43096g33bu1",
        "colab_type": "code",
        "colab": {
          "base_uri": "https://localhost:8080/",
          "height": 34
        },
        "outputId": "74f75748-6efb-4f9f-a625-0a8d24b12733"
      },
      "source": [
        "# Importando librarías\n",
        "import keras\n",
        "import matplotlib.pyplot as plt\n",
        "import pandas as pd\n",
        "import numpy as np"
      ],
      "execution_count": 1,
      "outputs": [
        {
          "output_type": "stream",
          "text": [
            "Using TensorFlow backend.\n"
          ],
          "name": "stderr"
        }
      ]
    },
    {
      "cell_type": "markdown",
      "metadata": {
        "id": "B9wstEKj3bu5",
        "colab_type": "text"
      },
      "source": [
        "## Regresión lineal y=mx+b+ruido"
      ]
    },
    {
      "cell_type": "code",
      "metadata": {
        "id": "poGsQuv_3bu5",
        "colab_type": "code",
        "colab": {}
      },
      "source": [
        "m = 2\n",
        "b = 3\n",
        "x = np.linspace(0,50,100)\n",
        "\n",
        "# vamos a fijar una semilla en 101, un valor aleatorio para asegurarnos de que obtengas los mismos resultados que yo!\n",
        "np.random.seed(101) \n",
        "ruido = np.random.normal(loc=0.0,scale=4.0,size=len(x))"
      ],
      "execution_count": 2,
      "outputs": []
    },
    {
      "cell_type": "code",
      "metadata": {
        "id": "MuMla58t3bu8",
        "colab_type": "code",
        "colab": {}
      },
      "source": [
        "y = m*x + b + ruido"
      ],
      "execution_count": 3,
      "outputs": []
    },
    {
      "cell_type": "code",
      "metadata": {
        "id": "toVNklzd3bu-",
        "colab_type": "code",
        "colab": {
          "base_uri": "https://localhost:8080/",
          "height": 265
        },
        "outputId": "7e91625d-194e-4aca-c0ad-c4d0577087f9"
      },
      "source": [
        "plt.plot(x,y,'*');"
      ],
      "execution_count": 4,
      "outputs": [
        {
          "output_type": "display_data",
          "data": {
            "image/png": "[encoded data removed]",
            "text/plain": [
              "<Figure size 432x288 with 1 Axes>"
            ]
          },
          "metadata": {
            "tags": [],
            "needs_background": "light"
          }
        }
      ]
    },
    {
      "cell_type": "markdown",
      "metadata": {
        "id": "kPvzkgi93bvC",
        "colab_type": "text"
      },
      "source": [
        "## Creando una Red Neuronal para una Regresión"
      ]
    },
    {
      "cell_type": "code",
      "metadata": {
        "id": "l4qsI7Uu3bvD",
        "colab_type": "code",
        "colab": {}
      },
      "source": [
        "#Importamos las librerias de keras para el modelo neuronal\n",
        "from keras.models import Sequential\n",
        "from keras.layers import Dense"
      ],
      "execution_count": 5,
      "outputs": []
    },
    {
      "cell_type": "code",
      "metadata": {
        "id": "QtvnVIMx3bvF",
        "colab_type": "code",
        "colab": {}
      },
      "source": [
        "#Vamos a hacer un modelo secuancial\n",
        "model = Sequential()\n",
        "#Vamos a ir agregando capas al modelo\n",
        "#Empezamos con una capa densa (todas las neuronas conecatdas)\n",
        "#Tenemos solo una variable de entrada (x)\n",
        "#\"relu\" es la función de activación\n",
        "# 4 Neuronas, esperamos solo 1 input \n",
        "model.add(Dense(4, input_dim=1, activation='relu'))\n",
        "#Aquí conectamos las neuronas\n",
        "# 4 Neuronas\n",
        "model.add(Dense(4, activation='relu'))\n",
        "#Esta es la capa final, donde vamos a tener el resultado final\n",
        "#Cambiamos la función de activación por una lineal\n",
        "# Solo 1 neurona porque solo tenemos 1 output que es Y\n",
        "model.add(Dense(1, activation='linear'))\n",
        "# Compilamos todas las capas\n",
        "#\"loss\" es la funcuón de error en este caso es el error cuadratico medio\n",
        "#usamos un optimizador, \"adam\" es uno de los más utilizados\n",
        "model.compile(loss='mse', optimizer='adam')"
      ],
      "execution_count": 6,
      "outputs": []
    },
    {
      "cell_type": "code",
      "metadata": {
        "id": "esLa-nsq3bvI",
        "colab_type": "code",
        "colab": {
          "base_uri": "https://localhost:8080/",
          "height": 255
        },
        "outputId": "9fa7001c-0bf1-481c-f85a-10894f818116"
      },
      "source": [
        "model.summary()"
      ],
      "execution_count": 7,
      "outputs": [
        {
          "output_type": "stream",
          "text": [
            "Model: \"sequential_1\"\n",
            "_________________________________________________________________\n",
            "Layer (type)                 Output Shape              Param #   \n",
            "=================================================================\n",
            "dense_1 (Dense)              (None, 4)                 8         \n",
            "_________________________________________________________________\n",
            "dense_2 (Dense)              (None, 4)                 20        \n",
            "_________________________________________________________________\n",
            "dense_3 (Dense)              (None, 1)                 5         \n",
            "=================================================================\n",
            "Total params: 33\n",
            "Trainable params: 33\n",
            "Non-trainable params: 0\n",
            "_________________________________________________________________\n"
          ],
          "name": "stdout"
        }
      ]
    },
    {
      "cell_type": "markdown",
      "metadata": {
        "id": "dqIddxcm3bvK",
        "colab_type": "text"
      },
      "source": [
        "## Entrenamiento de la red\n",
        "\n",
        "** NOTA: EN ESTE EJEMPLO VAMOS A SALTARNOS EL PASO DE DIVIDIR LOS DATOS EN ENTRENAMIENTO Y PRUEBA!!!! **"
      ]
    },
    {
      "cell_type": "code",
      "metadata": {
        "id": "PgBp7fg-3bvL",
        "colab_type": "code",
        "colab": {
          "base_uri": "https://localhost:8080/",
          "height": 1000
        },
        "outputId": "6a8c5794-2869-4d4c-bf6f-592cc2c32bd1"
      },
      "source": [
        "#Entrenamos en el modelo con el input y el outpu que tenemos\n",
        "#Epocs son las pasadas que le damos al problema\n",
        "#\"verbose\" es para que nos de información de cada paso\n",
        "model.fit(x, y, epochs=200, verbose=1)"
      ],
      "execution_count": 8,
      "outputs": [
        {
          "output_type": "stream",
          "text": [
            "Epoch 1/200\n",
            "100/100 [==============================] - 0s 3ms/step - loss: 3628.6337\n",
            "Epoch 2/200\n",
            "100/100 [==============================] - 0s 140us/step - loss: 3621.6875\n",
            "Epoch 3/200\n",
            "100/100 [==============================] - 0s 101us/step - loss: 3613.8588\n",
            "Epoch 4/200\n",
            "100/100 [==============================] - 0s 114us/step - loss: 3605.7270\n",
            "Epoch 5/200\n",
            "100/100 [==============================] - 0s 126us/step - loss: 3597.7739\n",
            "Epoch 6/200\n",
            "100/100 [==============================] - 0s 102us/step - loss: 3588.7995\n",
            "Epoch 7/200\n",
            "100/100 [==============================] - 0s 103us/step - loss: 3579.8632\n",
            "Epoch 8/200\n",
            "100/100 [==============================] - 0s 90us/step - loss: 3570.9719\n",
            "Epoch 9/200\n",
            "100/100 [==============================] - 0s 144us/step - loss: 3561.7034\n",
            "Epoch 10/200\n",
            "100/100 [==============================] - 0s 108us/step - loss: 3551.9250\n",
            "Epoch 11/200\n",
            "100/100 [==============================] - 0s 117us/step - loss: 3542.2672\n",
            "Epoch 12/200\n",
            "100/100 [==============================] - 0s 95us/step - loss: 3531.5371\n",
            "Epoch 13/200\n",
            "100/100 [==============================] - 0s 163us/step - loss: 3520.7904\n",
            "Epoch 14/200\n",
            "100/100 [==============================] - 0s 131us/step - loss: 3510.6239\n",
            "Epoch 15/200\n",
            "100/100 [==============================] - 0s 129us/step - loss: 3500.0099\n",
            "Epoch 16/200\n",
            "100/100 [==============================] - 0s 133us/step - loss: 3488.4147\n",
            "Epoch 17/200\n",
            "100/100 [==============================] - 0s 140us/step - loss: 3477.3234\n",
            "Epoch 18/200\n",
            "100/100 [==============================] - 0s 109us/step - loss: 3465.5651\n",
            "Epoch 19/200\n",
            "100/100 [==============================] - 0s 154us/step - loss: 3452.8898\n",
            "Epoch 20/200\n",
            "100/100 [==============================] - 0s 112us/step - loss: 3439.6564\n",
            "Epoch 21/200\n",
            "100/100 [==============================] - 0s 82us/step - loss: 3427.2385\n",
            "Epoch 22/200\n",
            "100/100 [==============================] - 0s 80us/step - loss: 3412.7346\n",
            "Epoch 23/200\n",
            "100/100 [==============================] - 0s 77us/step - loss: 3398.2558\n",
            "Epoch 24/200\n",
            "100/100 [==============================] - 0s 81us/step - loss: 3384.0654\n",
            "Epoch 25/200\n",
            "100/100 [==============================] - 0s 76us/step - loss: 3369.0278\n",
            "Epoch 26/200\n",
            "100/100 [==============================] - 0s 88us/step - loss: 3353.8206\n",
            "Epoch 27/200\n",
            "100/100 [==============================] - 0s 113us/step - loss: 3338.4722\n",
            "Epoch 28/200\n",
            "100/100 [==============================] - 0s 77us/step - loss: 3322.3737\n",
            "Epoch 29/200\n",
            "100/100 [==============================] - 0s 91us/step - loss: 3305.5239\n",
            "Epoch 30/200\n",
            "100/100 [==============================] - 0s 83us/step - loss: 3289.6652\n",
            "Epoch 31/200\n",
            "100/100 [==============================] - 0s 106us/step - loss: 3272.6799\n",
            "Epoch 32/200\n",
            "100/100 [==============================] - 0s 119us/step - loss: 3255.2535\n",
            "Epoch 33/200\n",
            "100/100 [==============================] - 0s 137us/step - loss: 3237.1358\n",
            "Epoch 34/200\n",
            "100/100 [==============================] - 0s 121us/step - loss: 3220.0715\n",
            "Epoch 35/200\n",
            "100/100 [==============================] - 0s 101us/step - loss: 3201.7327\n",
            "Epoch 36/200\n",
            "100/100 [==============================] - 0s 91us/step - loss: 3182.9964\n",
            "Epoch 37/200\n",
            "100/100 [==============================] - 0s 93us/step - loss: 3164.5824\n",
            "Epoch 38/200\n",
            "100/100 [==============================] - 0s 92us/step - loss: 3144.9751\n",
            "Epoch 39/200\n",
            "100/100 [==============================] - 0s 135us/step - loss: 3125.9894\n",
            "Epoch 40/200\n",
            "100/100 [==============================] - 0s 141us/step - loss: 3106.8323\n",
            "Epoch 41/200\n",
            "100/100 [==============================] - 0s 93us/step - loss: 3085.7459\n",
            "Epoch 42/200\n",
            "100/100 [==============================] - 0s 99us/step - loss: 3063.9066\n",
            "Epoch 43/200\n",
            "100/100 [==============================] - 0s 79us/step - loss: 3043.1847\n",
            "Epoch 44/200\n",
            "100/100 [==============================] - 0s 120us/step - loss: 3020.7853\n",
            "Epoch 45/200\n",
            "100/100 [==============================] - 0s 85us/step - loss: 2999.2562\n",
            "Epoch 46/200\n",
            "100/100 [==============================] - 0s 89us/step - loss: 2975.0104\n",
            "Epoch 47/200\n",
            "100/100 [==============================] - 0s 83us/step - loss: 2953.3726\n",
            "Epoch 48/200\n",
            "100/100 [==============================] - 0s 66us/step - loss: 2930.2989\n",
            "Epoch 49/200\n",
            "100/100 [==============================] - 0s 81us/step - loss: 2907.4593\n",
            "Epoch 50/200\n",
            "100/100 [==============================] - 0s 93us/step - loss: 2883.5156\n",
            "Epoch 51/200\n",
            "100/100 [==============================] - 0s 98us/step - loss: 2859.9386\n",
            "Epoch 52/200\n",
            "100/100 [==============================] - 0s 84us/step - loss: 2834.6922\n",
            "Epoch 53/200\n",
            "100/100 [==============================] - 0s 103us/step - loss: 2809.5111\n",
            "Epoch 54/200\n",
            "100/100 [==============================] - 0s 91us/step - loss: 2784.3954\n",
            "Epoch 55/200\n",
            "100/100 [==============================] - 0s 86us/step - loss: 2757.3690\n",
            "Epoch 56/200\n",
            "100/100 [==============================] - 0s 117us/step - loss: 2731.2377\n",
            "Epoch 57/200\n",
            "100/100 [==============================] - 0s 121us/step - loss: 2705.5949\n",
            "Epoch 58/200\n",
            "100/100 [==============================] - 0s 90us/step - loss: 2676.9146\n",
            "Epoch 59/200\n",
            "100/100 [==============================] - 0s 122us/step - loss: 2650.4475\n",
            "Epoch 60/200\n",
            "100/100 [==============================] - 0s 79us/step - loss: 2621.2575\n",
            "Epoch 61/200\n",
            "100/100 [==============================] - 0s 84us/step - loss: 2593.0753\n",
            "Epoch 62/200\n",
            "100/100 [==============================] - 0s 104us/step - loss: 2564.7052\n",
            "Epoch 63/200\n",
            "100/100 [==============================] - 0s 97us/step - loss: 2537.6733\n",
            "Epoch 64/200\n",
            "100/100 [==============================] - 0s 100us/step - loss: 2508.6132\n",
            "Epoch 65/200\n",
            "100/100 [==============================] - 0s 148us/step - loss: 2479.8390\n",
            "Epoch 66/200\n",
            "100/100 [==============================] - 0s 130us/step - loss: 2450.1802\n",
            "Epoch 67/200\n",
            "100/100 [==============================] - 0s 88us/step - loss: 2421.0186\n",
            "Epoch 68/200\n",
            "100/100 [==============================] - 0s 79us/step - loss: 2391.8796\n",
            "Epoch 69/200\n",
            "100/100 [==============================] - 0s 85us/step - loss: 2361.9462\n",
            "Epoch 70/200\n",
            "100/100 [==============================] - 0s 77us/step - loss: 2331.9244\n",
            "Epoch 71/200\n",
            "100/100 [==============================] - 0s 94us/step - loss: 2301.5172\n",
            "Epoch 72/200\n",
            "100/100 [==============================] - 0s 110us/step - loss: 2269.4380\n",
            "Epoch 73/200\n",
            "100/100 [==============================] - 0s 111us/step - loss: 2236.1738\n",
            "Epoch 74/200\n",
            "100/100 [==============================] - 0s 125us/step - loss: 2202.9899\n",
            "Epoch 75/200\n",
            "100/100 [==============================] - 0s 124us/step - loss: 2169.2896\n",
            "Epoch 76/200\n",
            "100/100 [==============================] - 0s 107us/step - loss: 2135.8450\n",
            "Epoch 77/200\n",
            "100/100 [==============================] - 0s 148us/step - loss: 2105.3116\n",
            "Epoch 78/200\n",
            "100/100 [==============================] - 0s 88us/step - loss: 2071.6916\n",
            "Epoch 79/200\n",
            "100/100 [==============================] - 0s 96us/step - loss: 2040.0950\n",
            "Epoch 80/200\n",
            "100/100 [==============================] - 0s 128us/step - loss: 2007.0257\n",
            "Epoch 81/200\n",
            "100/100 [==============================] - 0s 134us/step - loss: 1975.3155\n",
            "Epoch 82/200\n",
            "100/100 [==============================] - 0s 110us/step - loss: 1940.3640\n",
            "Epoch 83/200\n",
            "100/100 [==============================] - 0s 169us/step - loss: 1905.7870\n",
            "Epoch 84/200\n",
            "100/100 [==============================] - 0s 157us/step - loss: 1870.0235\n",
            "Epoch 85/200\n",
            "100/100 [==============================] - 0s 180us/step - loss: 1835.8714\n",
            "Epoch 86/200\n",
            "100/100 [==============================] - 0s 124us/step - loss: 1801.0365\n",
            "Epoch 87/200\n",
            "100/100 [==============================] - 0s 106us/step - loss: 1766.3841\n",
            "Epoch 88/200\n",
            "100/100 [==============================] - 0s 102us/step - loss: 1733.8081\n",
            "Epoch 89/200\n",
            "100/100 [==============================] - 0s 133us/step - loss: 1699.0174\n",
            "Epoch 90/200\n",
            "100/100 [==============================] - 0s 113us/step - loss: 1666.4809\n",
            "Epoch 91/200\n",
            "100/100 [==============================] - 0s 89us/step - loss: 1631.9463\n",
            "Epoch 92/200\n",
            "100/100 [==============================] - 0s 98us/step - loss: 1597.6431\n",
            "Epoch 93/200\n",
            "100/100 [==============================] - 0s 135us/step - loss: 1563.4222\n",
            "Epoch 94/200\n",
            "100/100 [==============================] - 0s 110us/step - loss: 1529.7825\n",
            "Epoch 95/200\n",
            "100/100 [==============================] - 0s 114us/step - loss: 1497.6906\n",
            "Epoch 96/200\n",
            "100/100 [==============================] - 0s 141us/step - loss: 1463.3101\n",
            "Epoch 97/200\n",
            "100/100 [==============================] - 0s 92us/step - loss: 1431.3227\n",
            "Epoch 98/200\n",
            "100/100 [==============================] - 0s 117us/step - loss: 1399.5825\n",
            "Epoch 99/200\n",
            "100/100 [==============================] - 0s 130us/step - loss: 1367.2114\n",
            "Epoch 100/200\n",
            "100/100 [==============================] - 0s 100us/step - loss: 1333.9212\n",
            "Epoch 101/200\n",
            "100/100 [==============================] - 0s 106us/step - loss: 1301.2330\n",
            "Epoch 102/200\n",
            "100/100 [==============================] - 0s 157us/step - loss: 1270.3790\n",
            "Epoch 103/200\n",
            "100/100 [==============================] - 0s 140us/step - loss: 1237.9237\n",
            "Epoch 104/200\n",
            "100/100 [==============================] - 0s 110us/step - loss: 1206.9221\n",
            "Epoch 105/200\n",
            "100/100 [==============================] - 0s 106us/step - loss: 1174.7975\n",
            "Epoch 106/200\n",
            "100/100 [==============================] - 0s 102us/step - loss: 1144.4615\n",
            "Epoch 107/200\n",
            "100/100 [==============================] - 0s 88us/step - loss: 1115.2723\n",
            "Epoch 108/200\n",
            "100/100 [==============================] - 0s 105us/step - loss: 1085.6981\n",
            "Epoch 109/200\n",
            "100/100 [==============================] - 0s 107us/step - loss: 1058.6120\n",
            "Epoch 110/200\n",
            "100/100 [==============================] - 0s 106us/step - loss: 1029.7572\n",
            "Epoch 111/200\n",
            "100/100 [==============================] - 0s 123us/step - loss: 1000.8872\n",
            "Epoch 112/200\n",
            "100/100 [==============================] - 0s 103us/step - loss: 973.3690\n",
            "Epoch 113/200\n",
            "100/100 [==============================] - 0s 120us/step - loss: 944.1335\n",
            "Epoch 114/200\n",
            "100/100 [==============================] - 0s 113us/step - loss: 916.0929\n",
            "Epoch 115/200\n",
            "100/100 [==============================] - 0s 96us/step - loss: 888.6766\n",
            "Epoch 116/200\n",
            "100/100 [==============================] - 0s 99us/step - loss: 859.7769\n",
            "Epoch 117/200\n",
            "100/100 [==============================] - 0s 179us/step - loss: 832.0132\n",
            "Epoch 118/200\n",
            "100/100 [==============================] - 0s 131us/step - loss: 804.9359\n",
            "Epoch 119/200\n",
            "100/100 [==============================] - 0s 134us/step - loss: 778.8013\n",
            "Epoch 120/200\n",
            "100/100 [==============================] - 0s 130us/step - loss: 751.0432\n",
            "Epoch 121/200\n",
            "100/100 [==============================] - 0s 151us/step - loss: 723.3620\n",
            "Epoch 122/200\n",
            "100/100 [==============================] - 0s 96us/step - loss: 695.6238\n",
            "Epoch 123/200\n",
            "100/100 [==============================] - 0s 142us/step - loss: 669.9559\n",
            "Epoch 124/200\n",
            "100/100 [==============================] - 0s 90us/step - loss: 644.3863\n",
            "Epoch 125/200\n",
            "100/100 [==============================] - 0s 81us/step - loss: 619.6387\n",
            "Epoch 126/200\n",
            "100/100 [==============================] - 0s 87us/step - loss: 594.1735\n",
            "Epoch 127/200\n",
            "100/100 [==============================] - 0s 137us/step - loss: 569.7143\n",
            "Epoch 128/200\n",
            "100/100 [==============================] - 0s 106us/step - loss: 546.6920\n",
            "Epoch 129/200\n",
            "100/100 [==============================] - 0s 100us/step - loss: 524.4706\n",
            "Epoch 130/200\n",
            "100/100 [==============================] - 0s 102us/step - loss: 503.0565\n",
            "Epoch 131/200\n",
            "100/100 [==============================] - 0s 78us/step - loss: 483.1139\n",
            "Epoch 132/200\n",
            "100/100 [==============================] - 0s 100us/step - loss: 464.0254\n",
            "Epoch 133/200\n",
            "100/100 [==============================] - 0s 73us/step - loss: 444.4885\n",
            "Epoch 134/200\n",
            "100/100 [==============================] - 0s 71us/step - loss: 425.7638\n",
            "Epoch 135/200\n",
            "100/100 [==============================] - 0s 89us/step - loss: 407.1161\n",
            "Epoch 136/200\n",
            "100/100 [==============================] - 0s 73us/step - loss: 389.4664\n",
            "Epoch 137/200\n",
            "100/100 [==============================] - 0s 79us/step - loss: 372.4152\n",
            "Epoch 138/200\n",
            "100/100 [==============================] - 0s 86us/step - loss: 354.8679\n",
            "Epoch 139/200\n",
            "100/100 [==============================] - 0s 81us/step - loss: 338.7733\n",
            "Epoch 140/200\n",
            "100/100 [==============================] - 0s 89us/step - loss: 323.7586\n",
            "Epoch 141/200\n",
            "100/100 [==============================] - 0s 93us/step - loss: 310.1510\n",
            "Epoch 142/200\n",
            "100/100 [==============================] - 0s 91us/step - loss: 296.7577\n",
            "Epoch 143/200\n",
            "100/100 [==============================] - 0s 93us/step - loss: 284.1473\n",
            "Epoch 144/200\n",
            "100/100 [==============================] - 0s 86us/step - loss: 271.3932\n",
            "Epoch 145/200\n",
            "100/100 [==============================] - 0s 95us/step - loss: 260.1575\n",
            "Epoch 146/200\n",
            "100/100 [==============================] - 0s 131us/step - loss: 248.3365\n",
            "Epoch 147/200\n",
            "100/100 [==============================] - 0s 96us/step - loss: 236.2135\n",
            "Epoch 148/200\n",
            "100/100 [==============================] - 0s 134us/step - loss: 224.4079\n",
            "Epoch 149/200\n",
            "100/100 [==============================] - 0s 107us/step - loss: 213.4730\n",
            "Epoch 150/200\n",
            "100/100 [==============================] - 0s 112us/step - loss: 202.5913\n",
            "Epoch 151/200\n",
            "100/100 [==============================] - 0s 80us/step - loss: 191.9789\n",
            "Epoch 152/200\n",
            "100/100 [==============================] - 0s 91us/step - loss: 181.8309\n",
            "Epoch 153/200\n",
            "100/100 [==============================] - 0s 103us/step - loss: 172.8061\n",
            "Epoch 154/200\n",
            "100/100 [==============================] - 0s 88us/step - loss: 164.6479\n",
            "Epoch 155/200\n",
            "100/100 [==============================] - 0s 75us/step - loss: 156.4989\n",
            "Epoch 156/200\n",
            "100/100 [==============================] - 0s 81us/step - loss: 148.9428\n",
            "Epoch 157/200\n",
            "100/100 [==============================] - 0s 89us/step - loss: 141.5310\n",
            "Epoch 158/200\n",
            "100/100 [==============================] - 0s 97us/step - loss: 134.9229\n",
            "Epoch 159/200\n",
            "100/100 [==============================] - 0s 88us/step - loss: 128.4519\n",
            "Epoch 160/200\n",
            "100/100 [==============================] - 0s 78us/step - loss: 122.1542\n",
            "Epoch 161/200\n",
            "100/100 [==============================] - 0s 79us/step - loss: 115.6458\n",
            "Epoch 162/200\n",
            "100/100 [==============================] - 0s 96us/step - loss: 109.6031\n",
            "Epoch 163/200\n",
            "100/100 [==============================] - 0s 152us/step - loss: 103.8963\n",
            "Epoch 164/200\n",
            "100/100 [==============================] - 0s 95us/step - loss: 98.2633\n",
            "Epoch 165/200\n",
            "100/100 [==============================] - 0s 96us/step - loss: 92.9428\n",
            "Epoch 166/200\n",
            "100/100 [==============================] - 0s 83us/step - loss: 88.3060\n",
            "Epoch 167/200\n",
            "100/100 [==============================] - 0s 94us/step - loss: 83.5660\n",
            "Epoch 168/200\n",
            "100/100 [==============================] - 0s 89us/step - loss: 79.1552\n",
            "Epoch 169/200\n",
            "100/100 [==============================] - 0s 79us/step - loss: 74.8821\n",
            "Epoch 170/200\n",
            "100/100 [==============================] - 0s 86us/step - loss: 70.8485\n",
            "Epoch 171/200\n",
            "100/100 [==============================] - 0s 86us/step - loss: 67.0777\n",
            "Epoch 172/200\n",
            "100/100 [==============================] - 0s 80us/step - loss: 63.6653\n",
            "Epoch 173/200\n",
            "100/100 [==============================] - 0s 82us/step - loss: 60.1490\n",
            "Epoch 174/200\n",
            "100/100 [==============================] - 0s 80us/step - loss: 57.0613\n",
            "Epoch 175/200\n",
            "100/100 [==============================] - 0s 84us/step - loss: 54.0306\n",
            "Epoch 176/200\n",
            "100/100 [==============================] - 0s 117us/step - loss: 51.2153\n",
            "Epoch 177/200\n",
            "100/100 [==============================] - 0s 177us/step - loss: 48.5606\n",
            "Epoch 178/200\n",
            "100/100 [==============================] - 0s 92us/step - loss: 46.2947\n",
            "Epoch 179/200\n",
            "100/100 [==============================] - 0s 92us/step - loss: 44.1010\n",
            "Epoch 180/200\n",
            "100/100 [==============================] - 0s 89us/step - loss: 42.2215\n",
            "Epoch 181/200\n",
            "100/100 [==============================] - 0s 110us/step - loss: 40.2942\n",
            "Epoch 182/200\n",
            "100/100 [==============================] - 0s 109us/step - loss: 38.5340\n",
            "Epoch 183/200\n",
            "100/100 [==============================] - 0s 90us/step - loss: 36.9085\n",
            "Epoch 184/200\n",
            "100/100 [==============================] - 0s 115us/step - loss: 35.4181\n",
            "Epoch 185/200\n",
            "100/100 [==============================] - 0s 128us/step - loss: 33.9841\n",
            "Epoch 186/200\n",
            "100/100 [==============================] - 0s 170us/step - loss: 32.7527\n",
            "Epoch 187/200\n",
            "100/100 [==============================] - 0s 87us/step - loss: 31.6248\n",
            "Epoch 188/200\n",
            "100/100 [==============================] - 0s 70us/step - loss: 30.5888\n",
            "Epoch 189/200\n",
            "100/100 [==============================] - 0s 75us/step - loss: 29.6295\n",
            "Epoch 190/200\n",
            "100/100 [==============================] - 0s 86us/step - loss: 28.6923\n",
            "Epoch 191/200\n",
            "100/100 [==============================] - 0s 73us/step - loss: 27.8485\n",
            "Epoch 192/200\n",
            "100/100 [==============================] - 0s 139us/step - loss: 27.0486\n",
            "Epoch 193/200\n",
            "100/100 [==============================] - 0s 96us/step - loss: 26.2299\n",
            "Epoch 194/200\n",
            "100/100 [==============================] - 0s 105us/step - loss: 25.4832\n",
            "Epoch 195/200\n",
            "100/100 [==============================] - 0s 134us/step - loss: 24.7981\n",
            "Epoch 196/200\n",
            "100/100 [==============================] - 0s 85us/step - loss: 24.1983\n",
            "Epoch 197/200\n",
            "100/100 [==============================] - 0s 77us/step - loss: 23.6552\n",
            "Epoch 198/200\n",
            "100/100 [==============================] - 0s 72us/step - loss: 23.1481\n",
            "Epoch 199/200\n",
            "100/100 [==============================] - 0s 102us/step - loss: 22.7367\n",
            "Epoch 200/200\n",
            "100/100 [==============================] - 0s 128us/step - loss: 22.3634\n"
          ],
          "name": "stdout"
        },
        {
          "output_type": "execute_result",
          "data": {
            "text/plain": [
              "<keras.callbacks.callbacks.History at 0x7f485d195208>"
            ]
          },
          "metadata": {
            "tags": []
          },
          "execution_count": 8
        }
      ]
    },
    {
      "cell_type": "code",
      "metadata": {
        "id": "pDJM_h9AE_79",
        "colab_type": "code",
        "colab": {
          "base_uri": "https://localhost:8080/",
          "height": 282
        },
        "outputId": "f520bcbc-9698-43e2-f691-7edfbaddeabd"
      },
      "source": [
        "#Hagamos un gráfico de los pasos y que nos muestre el error\n",
        "#Guardamos el error tomando el modelo que tenemos\n",
        "loss=model.history.history['loss']\n",
        "epochs=range(len(loss))\n",
        "plt.plot(epochs,loss)"
      ],
      "execution_count": 9,
      "outputs": [
        {
          "output_type": "execute_result",
          "data": {
            "text/plain": [
              "[<matplotlib.lines.Line2D at 0x7f48559287f0>]"
            ]
          },
          "metadata": {
            "tags": []
          },
          "execution_count": 9
        },
        {
          "output_type": "display_data",
          "data": {
            "image/png": "[encoded data removed]",
            "text/plain": [
              "<Figure size 432x288 with 1 Axes>"
            ]
          },
          "metadata": {
            "tags": [],
            "needs_background": "light"
          }
        }
      ]
    },
    {
      "cell_type": "markdown",
      "metadata": {
        "id": "sQQ-RL8k3bvN",
        "colab_type": "text"
      },
      "source": [
        "## Prediciendo nuevos puntos con el modelo creado\n"
      ]
    },
    {
      "cell_type": "code",
      "metadata": {
        "id": "7mKcVdwr3bvO",
        "colab_type": "code",
        "colab": {}
      },
      "source": [
        "#Generamos valore spara hacer predicciones\n",
        "x_for_predictions = np.linspace(0,50,1000)"
      ],
      "execution_count": 10,
      "outputs": []
    },
    {
      "cell_type": "code",
      "metadata": {
        "id": "zilII-3l3bvQ",
        "colab_type": "code",
        "colab": {}
      },
      "source": [
        "#Vamos a hacer predicciones con el modelo que tenemos\n",
        "#El modelo de redes neuronales\n",
        "y_predicted = model.predict(x_for_predictions)"
      ],
      "execution_count": 11,
      "outputs": []
    },
    {
      "cell_type": "code",
      "metadata": {
        "id": "CRmYwiW93bvS",
        "colab_type": "code",
        "colab": {
          "base_uri": "https://localhost:8080/",
          "height": 265
        },
        "outputId": "d93e5c1d-906c-48c5-c3de-9a3ff4159a3e"
      },
      "source": [
        "# X e Y originales\n",
        "plt.plot(x,y,'*')\n",
        "# Línea de predicción\n",
        "plt.plot(x_for_predictions,y_predicted,'r');\n",
        "#Aparentemente es un buen modelo"
      ],
      "execution_count": 12,
      "outputs": [
        {
          "output_type": "display_data",
          "data": {
            "image/png": "[encoded data removed]",
            "text/plain": [
              "<Figure size 432x288 with 1 Axes>"
            ]
          },
          "metadata": {
            "tags": [],
            "needs_background": "light"
          }
        }
      ]
    },
    {
      "cell_type": "markdown",
      "metadata": {
        "id": "MbnrstBa3bvU",
        "colab_type": "text"
      },
      "source": [
        "# Evaluando el error"
      ]
    },
    {
      "cell_type": "code",
      "metadata": {
        "id": "XxIMKNaX3bvV",
        "colab_type": "code",
        "colab": {}
      },
      "source": [
        "from sklearn.metrics import mean_squared_error,mean_absolute_error"
      ],
      "execution_count": 13,
      "outputs": []
    },
    {
      "cell_type": "code",
      "metadata": {
        "id": "BqVLux-h3bvX",
        "colab_type": "code",
        "colab": {}
      },
      "source": [
        "# Predicciones\n",
        "prediction_for_true_y = model.predict(x)"
      ],
      "execution_count": 14,
      "outputs": []
    },
    {
      "cell_type": "code",
      "metadata": {
        "id": "TqnV8_Ho3bva",
        "colab_type": "code",
        "colab": {
          "base_uri": "https://localhost:8080/",
          "height": 34
        },
        "outputId": "b1281e5d-a4c1-47be-8ae0-496e0d251754"
      },
      "source": [
        "mean_squared_error(y,prediction_for_true_y)"
      ],
      "execution_count": 15,
      "outputs": [
        {
          "output_type": "execute_result",
          "data": {
            "text/plain": [
              "22.072936228456868"
            ]
          },
          "metadata": {
            "tags": []
          },
          "execution_count": 15
        }
      ]
    },
    {
      "cell_type": "code",
      "metadata": {
        "id": "7lAvngdpO9PE",
        "colab_type": "code",
        "colab": {
          "base_uri": "https://localhost:8080/",
          "height": 34
        },
        "outputId": "1264e81f-52b4-4508-f02b-72fa6f1e636e"
      },
      "source": [
        "mean_absolute_error(y,prediction_for_true_y)"
      ],
      "execution_count": 16,
      "outputs": [
        {
          "output_type": "execute_result",
          "data": {
            "text/plain": [
              "3.7755709478279993"
            ]
          },
          "metadata": {
            "tags": []
          },
          "execution_count": 16
        }
      ]
    }
  ]
}